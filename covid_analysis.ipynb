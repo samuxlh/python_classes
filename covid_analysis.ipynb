{
  "nbformat": 4,
  "nbformat_minor": 0,
  "metadata": {
    "colab": {
      "name": "covid_analysis.ipynb",
      "provenance": [],
      "authorship_tag": "ABX9TyOW1LveXo4enRQLuu7b5V5q",
      "include_colab_link": true
    },
    "kernelspec": {
      "name": "python3",
      "display_name": "Python 3"
    },
    "language_info": {
      "name": "python"
    }
  },
  "cells": [
    {
      "cell_type": "markdown",
      "metadata": {
        "id": "view-in-github",
        "colab_type": "text"
      },
      "source": [
        "<a href=\"https://colab.research.google.com/github/samuxlh/python_classes/blob/main/covid_analysis.ipynb\" target=\"_parent\"><img src=\"https://colab.research.google.com/assets/colab-badge.svg\" alt=\"Open In Colab\"/></a>"
      ]
    },
    {
      "cell_type": "markdown",
      "metadata": {
        "id": "T3rhMufHrWIc"
      },
      "source": [
        "Hello! My name is Sam. This is my code.\n"
      ]
    },
    {
      "cell_type": "code",
      "metadata": {
        "id": "jGQfjqsRqzum"
      },
      "source": [
        "import pandas as pd\n",
        "import numpy as np\n",
        "import matplotlib.pyplot as plt\n",
        "df = pd.read_csv('https://covid19.who.int/WHO-COVID-19-global-table-data.csv', sep=',', index_col=False)\n"
      ],
      "execution_count": null,
      "outputs": []
    },
    {
      "cell_type": "code",
      "metadata": {
        "colab": {
          "base_uri": "https://localhost:8080/",
          "height": 289
        },
        "id": "uAEYT0Ntl7SU",
        "outputId": "5ddbf73f-184c-451f-841d-96a67a634168"
      },
      "source": [
        "df.head()"
      ],
      "execution_count": null,
      "outputs": [
        {
          "output_type": "execute_result",
          "data": {
            "text/html": [
              "<div>\n",
              "<style scoped>\n",
              "    .dataframe tbody tr th:only-of-type {\n",
              "        vertical-align: middle;\n",
              "    }\n",
              "\n",
              "    .dataframe tbody tr th {\n",
              "        vertical-align: top;\n",
              "    }\n",
              "\n",
              "    .dataframe thead th {\n",
              "        text-align: right;\n",
              "    }\n",
              "</style>\n",
              "<table border=\"1\" class=\"dataframe\">\n",
              "  <thead>\n",
              "    <tr style=\"text-align: right;\">\n",
              "      <th></th>\n",
              "      <th>Name</th>\n",
              "      <th>WHO Region</th>\n",
              "      <th>Cases - cumulative total</th>\n",
              "      <th>Cases - cumulative total per 100000 population</th>\n",
              "      <th>Cases - newly reported in last 7 days</th>\n",
              "      <th>Cases - newly reported in last 7 days per 100000 population</th>\n",
              "      <th>Cases - newly reported in last 24 hours</th>\n",
              "      <th>Deaths - cumulative total</th>\n",
              "      <th>Deaths - cumulative total per 100000 population</th>\n",
              "      <th>Deaths - newly reported in last 7 days</th>\n",
              "      <th>Deaths - newly reported in last 7 days per 100000 population</th>\n",
              "      <th>Deaths - newly reported in last 24 hours</th>\n",
              "    </tr>\n",
              "  </thead>\n",
              "  <tbody>\n",
              "    <tr>\n",
              "      <th>0</th>\n",
              "      <td>Global</td>\n",
              "      <td>NaN</td>\n",
              "      <td>229858719</td>\n",
              "      <td>2948.970798</td>\n",
              "      <td>3584083</td>\n",
              "      <td>45.981967</td>\n",
              "      <td>467094</td>\n",
              "      <td>4713543</td>\n",
              "      <td>60.472366</td>\n",
              "      <td>56188</td>\n",
              "      <td>0.720864</td>\n",
              "      <td>8096</td>\n",
              "    </tr>\n",
              "    <tr>\n",
              "      <th>1</th>\n",
              "      <td>United States of America</td>\n",
              "      <td>Americas</td>\n",
              "      <td>42163561</td>\n",
              "      <td>12738.130000</td>\n",
              "      <td>924872</td>\n",
              "      <td>279.420000</td>\n",
              "      <td>122624</td>\n",
              "      <td>673728</td>\n",
              "      <td>203.540000</td>\n",
              "      <td>12584</td>\n",
              "      <td>3.800000</td>\n",
              "      <td>1959</td>\n",
              "    </tr>\n",
              "    <tr>\n",
              "      <th>2</th>\n",
              "      <td>India</td>\n",
              "      <td>South-East Asia</td>\n",
              "      <td>33563421</td>\n",
              "      <td>2432.120000</td>\n",
              "      <td>216096</td>\n",
              "      <td>15.660000</td>\n",
              "      <td>31923</td>\n",
              "      <td>446050</td>\n",
              "      <td>32.320000</td>\n",
              "      <td>2122</td>\n",
              "      <td>0.150000</td>\n",
              "      <td>282</td>\n",
              "    </tr>\n",
              "    <tr>\n",
              "      <th>3</th>\n",
              "      <td>Brazil</td>\n",
              "      <td>Americas</td>\n",
              "      <td>21247094</td>\n",
              "      <td>9995.840000</td>\n",
              "      <td>227264</td>\n",
              "      <td>106.920000</td>\n",
              "      <td>-573</td>\n",
              "      <td>591440</td>\n",
              "      <td>278.250000</td>\n",
              "      <td>3643</td>\n",
              "      <td>1.710000</td>\n",
              "      <td>485</td>\n",
              "    </tr>\n",
              "    <tr>\n",
              "      <th>4</th>\n",
              "      <td>The United Kingdom</td>\n",
              "      <td>Europe</td>\n",
              "      <td>7530107</td>\n",
              "      <td>11092.280000</td>\n",
              "      <td>217420</td>\n",
              "      <td>320.270000</td>\n",
              "      <td>33560</td>\n",
              "      <td>135621</td>\n",
              "      <td>199.780000</td>\n",
              "      <td>974</td>\n",
              "      <td>1.430000</td>\n",
              "      <td>166</td>\n",
              "    </tr>\n",
              "  </tbody>\n",
              "</table>\n",
              "</div>"
            ],
            "text/plain": [
              "                       Name  ... Deaths - newly reported in last 24 hours\n",
              "0                    Global  ...                                     8096\n",
              "1  United States of America  ...                                     1959\n",
              "2                     India  ...                                      282\n",
              "3                    Brazil  ...                                      485\n",
              "4        The United Kingdom  ...                                      166\n",
              "\n",
              "[5 rows x 12 columns]"
            ]
          },
          "metadata": {},
          "execution_count": 7
        }
      ]
    },
    {
      "cell_type": "code",
      "metadata": {
        "colab": {
          "base_uri": "https://localhost:8080/"
        },
        "id": "9C-akqnvdyXH",
        "outputId": "94017247-7619-4628-a925-0efda321bb78"
      },
      "source": [
        "americas = df[df[\"WHO Region\"] == \"Americas\"]\n",
        "cumulative_cases = americas[\"Cases - cumulative total\"]\n"
      ],
      "execution_count": null,
      "outputs": [
        {
          "output_type": "execute_result",
          "data": {
            "text/plain": [
              "1      42163561\n",
              "3      21247094\n",
              "9       5243231\n",
              "10      4943622\n",
              "15      3585565\n",
              "20      2168431\n",
              "26      1648550\n",
              "27      1585732\n",
              "40       825351\n",
              "52       533744\n",
              "54       513384\n",
              "56       507020\n",
              "57       497676\n",
              "60       464781\n",
              "61       459695\n",
              "67       387922\n",
              "69       360598\n",
              "70       357322\n",
              "71       356042\n",
              "92       179593\n",
              "111      102024\n",
              "117       80959\n",
              "125       52463\n",
              "127       48826\n",
              "131       40685\n",
              "132       39239\n",
              "133       38137\n",
              "140       29824\n",
              "143       21453\n",
              "146       20288\n",
              "152       18902\n",
              "155       16150\n",
              "156       15305\n",
              "169       10757\n",
              "170       10727\n",
              "175        6736\n",
              "177        6557\n",
              "187        4632\n",
              "188        4356\n",
              "189        4146\n",
              "192        3740\n",
              "195        3134\n",
              "197        2964\n",
              "198        2813\n",
              "199        2676\n",
              "200        2603\n",
              "202        1945\n",
              "203        1718\n",
              "204        1624\n",
              "208         787\n",
              "212         350\n",
              "214          67\n",
              "215          33\n",
              "216          31\n",
              "218          24\n",
              "220          11\n",
              "Name: Cases - cumulative total, dtype: int64"
            ]
          },
          "metadata": {},
          "execution_count": 13
        }
      ]
    }
  ]
}